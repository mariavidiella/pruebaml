{
 "cells": [
  {
   "cell_type": "code",
   "execution_count": 2,
   "metadata": {},
   "outputs": [],
   "source": [
    "from utils.transformations import ExtendedTransformation, SimpleTransformation\n",
    "from utils.filters import SimpleFilter\n",
    "import pandas as pd\n",
    "import numpy as np"
   ]
  },
  {
   "cell_type": "code",
   "execution_count": 3,
   "metadata": {},
   "outputs": [
    {
     "name": "stdout",
     "output_type": "stream",
     "text": [
      "X shape:  (20974, 40)\n",
      "bin_vars_columns shape:  (36,)\n",
      "low_card_columns shape:  37\n",
      "X shape:  (20974, 40)\n",
      "X_low_card   shape:  (20974, 113)\n",
      "X_high_card shape:  (20974, 50)\n",
      "X_crossed_features shape:  (20974, 6670)\n",
      "X_EXPANDED shape:  (20974, 6835)\n",
      "(20974, 6835)\n",
      "(20974, 4173)\n",
      "(20974, 3198)\n",
      "(20974, 1630)\n",
      "(20974, 4173)\n",
      "(20974, 3198)\n",
      "(20974, 1630)\n"
     ]
    }
   ],
   "source": [
    "df_train = pd.read_csv(\"train_data/preprocessed/train_data.csv\")\n",
    "X_train, y_train = df_train.drop(columns=['Price']), df_train[['Price']]\n",
    "preprocessor = ExtendedTransformation()\n",
    "filter = SimpleFilter()\n",
    "preprocessor.fit(X_train, y_train)\n",
    "X_processed, y_processed = preprocessor.transform(X_train, y_train)\n",
    "filter.fit(X_processed, y_processed)\n",
    "X_filtered, y_filtered = filter.transform(X_processed, y_processed)"
   ]
  },
  {
   "cell_type": "code",
   "execution_count": null,
   "metadata": {},
   "outputs": [],
   "source": [
    "df_test = pd.read_csv(\"train_data/preprocessed/test_data.csv\")\n",
    "X_test, y_test = df_test.drop(columns=['Price']), df_train[['Price']]\n",
    "X_test_proccesed, y_test_proccessed = preprocessor.transform(X_test, y_test)\n",
    "X_test_filtered, y_test_filtered = filter.transform(X_test_proccesed, y_test_proccessed)"
   ]
  },
  {
   "cell_type": "code",
   "execution_count": null,
   "metadata": {},
   "outputs": [],
   "source": [
    "import optuna\n",
    "from sklearn.ensemble import GradientBoostingRegressor, HistGradientBoostingRegressor, RandomForestRegressor\n",
    "import sklearn.model_selection\n",
    "def objective(trial):\n",
    "    x, y = X_filtered, y_filtered.flatten()\n",
    "\n",
    "    ensemble_model = trial.suggest_categorical(\"ensemble_model\", [\"GradientBoost\", \"RandomForest\", \"HistGradientBoost\"])\n",
    "    n_estimators = trial.suggest_int(\"n_estimators\", 10, 500, log=True)\n",
    "    max_depth = trial.suggest_int(\"max_depth\", 5, 32, log=True)\n",
    "    \n",
    "    if (ensemble_model == 'GradientBoost'):\n",
    "        learning_rate = trial.suggest_float(\"learning_rate\", 0.001, 0.1, log=True)\n",
    "        estimator = GradientBoostingRegressor(n_estimators=n_estimators, max_depth=max_depth, learning_rate=learning_rate)\n",
    "    elif (ensemble_model == 'HistGradientBoost'):\n",
    "        learning_rate = trial.suggest_float(\"learning_rate\", 0.001, 0.1, log=True)\n",
    "        estimator = HistGradientBoostingRegressor(max_iter=n_estimators, max_depth=max_depth, learning_rate=learning_rate)\n",
    "    else:\n",
    "        min_split = trial.suggest_int(\"min_split\", 5, 50, log=True)\n",
    "        estimator = RandomForestRegressor(min_samples_split=min_split, max_depth=max_depth, n_estimators=n_estimators)\n",
    "    \n",
    "    scoring = sklearn.model_selection.cross_val_score(estimator, x, y, n_jobs=-1, cv=3, scoring='neg_mean_squared_error')\n",
    "\n",
    "    return scoring.mean()"
   ]
  },
  {
   "cell_type": "code",
   "execution_count": null,
   "metadata": {},
   "outputs": [],
   "source": [
    "study = optuna.create_study(direction=\"maximize\")\n",
    "study.optimize(objective, n_trials=100)\n",
    "print(study.best_trial)"
   ]
  },
  {
   "cell_type": "code",
   "execution_count": null,
   "metadata": {},
   "outputs": [],
   "source": [
    "study.best_trial.params"
   ]
  },
  {
   "cell_type": "code",
   "execution_count": null,
   "metadata": {},
   "outputs": [],
   "source": [
    "final_model = GradientBoostingRegressor(n_estimators=268, max_depth=6, learning_rate=0.0465703966438768)\n",
    "final_model.fit(X_filtered, y_filtered.flatten())"
   ]
  },
  {
   "cell_type": "code",
   "execution_count": null,
   "metadata": {},
   "outputs": [],
   "source": [
    "y_hat_scaled = final_model.predict(X_test_filtered)"
   ]
  },
  {
   "cell_type": "code",
   "execution_count": null,
   "metadata": {},
   "outputs": [],
   "source": [
    "y_hat = preprocessor.inverse_transform(y_hat_scaled.reshape(-1,1))"
   ]
  },
  {
   "cell_type": "code",
   "execution_count": null,
   "metadata": {},
   "outputs": [],
   "source": [
    "\n",
    "from sklearn.metrics import ( root_mean_squared_error, \n",
    "                             mean_absolute_error, \n",
    "                             mean_absolute_percentage_error )"
   ]
  },
  {
   "cell_type": "code",
   "execution_count": null,
   "metadata": {},
   "outputs": [],
   "source": [
    "y_true = y_test.values\n",
    "y_pred = y_hat\n",
    "rmse = root_mean_squared_error(y_true, y_pred)\n",
    "mae = mean_absolute_error(y_true, y_pred)\n",
    "mape = mean_absolute_percentage_error(y_true, y_pred)\n",
    "\n",
    "# Format metrics with units and percentages\n",
    "metrics = {\n",
    "    \"RMSE (₹)\": f\"{rmse:,.2f}\",\n",
    "    \"MAE (₹)\": f\"{mae:,.2f}\",\n",
    "    \"MAPE (%)\": f\"{mape:.2%}\"\n",
    "}\n",
    "\n",
    "# Display metrics in a formatted table\n",
    "print(\"\\nModel Performance Metrics:\\n\")\n",
    "print(f\"{'Metric':<15} {'Value':>15}\")\n",
    "print(\"-\" * 30)\n",
    "for metric, value in metrics.items():\n",
    "    print(f\"{metric:<15} {value:>15}\")\n",
    "\n",
    "# Add a summary interpretation\n",
    "print(\"\\nInterpretation:\")\n",
    "print(f\"- RMSE: The model's predictions are typically off by ₹{rmse:,.2f} on average\")\n",
    "print(f\"- MAE: The average absolute error is ₹{mae:,.2f}\")\n",
    "print(f\"- MAPE: The predictions are off by {mape:.1%} on average\")"
   ]
  }
 ],
 "metadata": {
  "kernelspec": {
   "display_name": "m_datos",
   "language": "python",
   "name": "python3"
  },
  "language_info": {
   "codemirror_mode": {
    "name": "ipython",
    "version": 3
   },
   "file_extension": ".py",
   "mimetype": "text/x-python",
   "name": "python",
   "nbconvert_exporter": "python",
   "pygments_lexer": "ipython3",
   "version": "3.12.7"
  }
 },
 "nbformat": 4,
 "nbformat_minor": 2
}
