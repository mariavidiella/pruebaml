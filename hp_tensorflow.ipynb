{
 "cells": [
  {
   "cell_type": "code",
   "execution_count": null,
   "metadata": {},
   "outputs": [],
   "source": [
    "import tensorflow as tf\n",
    "from tensorflow.keras import layers, models\n",
    "from utils.transformations import ExtendedTransformation, SimpleTransformation\n",
    "from utils.filters import SimpleFilter\n",
    "from sklearn.model_selection import train_test_split\n",
    "import optuna\n",
    "import pandas as pd\n",
    "import numpy as np"
   ]
  },
  {
   "cell_type": "code",
   "execution_count": null,
   "metadata": {},
   "outputs": [],
   "source": [
    "df_train = pd.read_csv(\"train_data/preprocessed/train_data.csv\")\n",
    "X_train, y_train = df_train.drop(columns=['Price']), df_train[['Price']]\n",
    "preprocessor = ExtendedTransformation()\n",
    "filter = SimpleFilter()\n",
    "preprocessor.fit(X_train, y_train)\n",
    "X_processed, y_processed = preprocessor.transform(X_train, y_train)\n",
    "filter.fit(X_processed, y_processed)\n",
    "X_filtered, y_filtered = filter.transform(X_processed, y_processed)"
   ]
  },
  {
   "cell_type": "code",
   "execution_count": null,
   "metadata": {},
   "outputs": [],
   "source": [
    "df_test = pd.read_csv(\"train_data/preprocessed/test_data.csv\")\n",
    "X_test, y_test = df_test.drop(columns=['Price']), df_test[['Price']]\n",
    "X_test_proccesed, y_test_proccessed = preprocessor.transform(X_test, y_test)\n",
    "X_test_filtered, y_test_filtered = filter.transform(X_test_proccesed, y_test_proccessed)"
   ]
  },
  {
   "cell_type": "code",
   "execution_count": null,
   "metadata": {},
   "outputs": [],
   "source": [
    "def create_model(trial):\n",
    "    n_layers = trial.suggest_int('n_layers', 1, 6)\n",
    "    model = tf.keras.Sequential()\n",
    "    model.add(tf.keras.layers.Flatten())\n",
    "    for layer in range(n_layers):\n",
    "        n_neuros = trial.suggest_categorical(f'neurons_of_layer{layer}', [32,64,128,256,512])\n",
    "        model.add(tf.keras.layers.Dense(n_neuros, activation='relu'))\n",
    "        dropout_ratio = trial.suggest_float(f'dropout_of_layer{layer}', 0.0, 0.35)\n",
    "        model.add(tf.keras.layers.Dropout(dropout_ratio))\n",
    "    model.add(tf.keras.layers.Dense(1))\n",
    "    return model"
   ]
  },
  {
   "cell_type": "code",
   "execution_count": null,
   "metadata": {},
   "outputs": [],
   "source": [
    "def objective(trial):\n",
    "    X,y = X_filtered, y_filtered\n",
    "    X_train, X_val, y_train, y_val = train_test_split(X,y, test_size=0.3, random_state=42)\n",
    "    learning_rate = trial.suggest_float(\"learnin_rate\", 0.0001, 0.1, log=True)\n",
    "    model = create_model(trial)\n",
    "    optimizer = tf.keras.optimizers.Adam(learning_rate)\n",
    "    model.compile(loss='mse', metrics=['mae'], optimizer=optimizer)\n",
    "    early_stopping_callback = tf.keras.callbacks.EarlyStopping(\n",
    "        monitor='val_loss',  # Monitoriza la pérdida en el conjunto de validación\n",
    "        patience=10,         # Número de épocas sin mejora antes de detener el entrenamient\n",
    "        verbose=1,           # Muestra mensajes cuando se detiene el entrenamiento\n",
    "        restore_best_weights=True  # Restaura los pesos del modelo de la mejor época encontrada\n",
    "        )\n",
    "    batch_size_param = trial.suggest_categorical('batch_size',[8,16,32,124])\n",
    "    history = model.fit(X_train, y_train,\n",
    "                        epochs=200, \n",
    "                        batch_size=batch_size_param,\n",
    "                        validation_data=(X_val, y_val),\n",
    "                        callbacks=[early_stopping_callback], verbose=0)\n",
    "    \n",
    "    results = model.evaluate(X_val, y_val, verbose=0)\n",
    "    return results[0], model"
   ]
  },
  {
   "cell_type": "code",
   "execution_count": null,
   "metadata": {},
   "outputs": [],
   "source": [
    "study = optuna.create_study(direction=\"minimize\")\n",
    "study.optimize(objective, n_trials=50)\n",
    "print(study.best_trial)"
   ]
  }
 ],
 "metadata": {
  "kernelspec": {
   "display_name": "m_datos",
   "language": "python",
   "name": "python3"
  },
  "language_info": {
   "name": "python",
   "version": "3.12.7"
  }
 },
 "nbformat": 4,
 "nbformat_minor": 2
}
