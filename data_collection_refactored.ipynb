{
 "cells": [
  {
   "cell_type": "code",
   "execution_count": 7,
   "metadata": {},
   "outputs": [],
   "source": [
    "from utils import collect as col\n"
   ]
  },
  {
   "cell_type": "code",
   "execution_count": 8,
   "metadata": {},
   "outputs": [],
   "source": [
    "ROUTE = \"train_data/source/\"\n",
    "\n",
    "df_combined, df_train, df_test= col.collect_and_join(ROUTE)"
   ]
  },
  {
   "cell_type": "code",
   "execution_count": 9,
   "metadata": {},
   "outputs": [
    {
     "data": {
      "text/html": [
       "<div>\n",
       "<style scoped>\n",
       "    .dataframe tbody tr th:only-of-type {\n",
       "        vertical-align: middle;\n",
       "    }\n",
       "\n",
       "    .dataframe tbody tr th {\n",
       "        vertical-align: top;\n",
       "    }\n",
       "\n",
       "    .dataframe thead th {\n",
       "        text-align: right;\n",
       "    }\n",
       "</style>\n",
       "<table border=\"1\" class=\"dataframe\">\n",
       "  <thead>\n",
       "    <tr style=\"text-align: right;\">\n",
       "      <th></th>\n",
       "      <th>Unnamed: 0.1</th>\n",
       "      <th>city</th>\n",
       "      <th>Unnamed: 0</th>\n",
       "      <th>Price</th>\n",
       "      <th>Area</th>\n",
       "      <th>Location</th>\n",
       "      <th>No. of Bedrooms</th>\n",
       "      <th>Resale</th>\n",
       "      <th>MaintenanceStaff</th>\n",
       "      <th>Gymnasium</th>\n",
       "      <th>...</th>\n",
       "      <th>LiftAvailable</th>\n",
       "      <th>BED</th>\n",
       "      <th>VaastuCompliant</th>\n",
       "      <th>Microwave</th>\n",
       "      <th>GolfCourse</th>\n",
       "      <th>TV</th>\n",
       "      <th>DiningTable</th>\n",
       "      <th>Sofa</th>\n",
       "      <th>Wardrobe</th>\n",
       "      <th>Stadium</th>\n",
       "    </tr>\n",
       "  </thead>\n",
       "  <tbody>\n",
       "    <tr>\n",
       "      <th>29768</th>\n",
       "      <td>5512</td>\n",
       "      <td>Bangalore</td>\n",
       "      <td>5512</td>\n",
       "      <td>5273000</td>\n",
       "      <td>2003</td>\n",
       "      <td>Bagaluru Near Yelahanka</td>\n",
       "      <td>3.0</td>\n",
       "      <td>0.0</td>\n",
       "      <td>9.0</td>\n",
       "      <td>9.0</td>\n",
       "      <td>...</td>\n",
       "      <td>9.0</td>\n",
       "      <td>9.0</td>\n",
       "      <td>9</td>\n",
       "      <td>9.0</td>\n",
       "      <td>9.0</td>\n",
       "      <td>9.0</td>\n",
       "      <td>9.0</td>\n",
       "      <td>9.0</td>\n",
       "      <td>9</td>\n",
       "      <td>9.0</td>\n",
       "    </tr>\n",
       "    <tr>\n",
       "      <th>10347</th>\n",
       "      <td>3831</td>\n",
       "      <td>Kolkata</td>\n",
       "      <td>3831</td>\n",
       "      <td>2600000</td>\n",
       "      <td>3440</td>\n",
       "      <td>Alipore</td>\n",
       "      <td>5.0</td>\n",
       "      <td>1.0</td>\n",
       "      <td>9.0</td>\n",
       "      <td>9.0</td>\n",
       "      <td>...</td>\n",
       "      <td>9.0</td>\n",
       "      <td>9.0</td>\n",
       "      <td>9</td>\n",
       "      <td>9.0</td>\n",
       "      <td>9.0</td>\n",
       "      <td>9.0</td>\n",
       "      <td>9.0</td>\n",
       "      <td>9.0</td>\n",
       "      <td>9</td>\n",
       "      <td>9.0</td>\n",
       "    </tr>\n",
       "    <tr>\n",
       "      <th>23156</th>\n",
       "      <td>6119</td>\n",
       "      <td>Mumbai</td>\n",
       "      <td>6119</td>\n",
       "      <td>14500000</td>\n",
       "      <td>1655</td>\n",
       "      <td>Kandivali East</td>\n",
       "      <td>3.0</td>\n",
       "      <td>NaN</td>\n",
       "      <td>9.0</td>\n",
       "      <td>9.0</td>\n",
       "      <td>...</td>\n",
       "      <td>9.0</td>\n",
       "      <td>9.0</td>\n",
       "      <td>9</td>\n",
       "      <td>9.0</td>\n",
       "      <td>9.0</td>\n",
       "      <td>9.0</td>\n",
       "      <td>9.0</td>\n",
       "      <td>9.0</td>\n",
       "      <td>9</td>\n",
       "      <td>9.0</td>\n",
       "    </tr>\n",
       "    <tr>\n",
       "      <th>4402</th>\n",
       "      <td>2384</td>\n",
       "      <td>Delhi</td>\n",
       "      <td>2384</td>\n",
       "      <td>18800000</td>\n",
       "      <td>1800</td>\n",
       "      <td>Sector 9 Dwarka</td>\n",
       "      <td>3.0</td>\n",
       "      <td>1.0</td>\n",
       "      <td>9.0</td>\n",
       "      <td>9.0</td>\n",
       "      <td>...</td>\n",
       "      <td>9.0</td>\n",
       "      <td>9.0</td>\n",
       "      <td>9</td>\n",
       "      <td>9.0</td>\n",
       "      <td>9.0</td>\n",
       "      <td>9.0</td>\n",
       "      <td>9.0</td>\n",
       "      <td>9.0</td>\n",
       "      <td>9</td>\n",
       "      <td>9.0</td>\n",
       "    </tr>\n",
       "    <tr>\n",
       "      <th>2577</th>\n",
       "      <td>559</td>\n",
       "      <td>Delhi</td>\n",
       "      <td>559</td>\n",
       "      <td>16000000</td>\n",
       "      <td>1650</td>\n",
       "      <td>Sector 6 Dwarka</td>\n",
       "      <td>3.0</td>\n",
       "      <td>1.0</td>\n",
       "      <td>0.0</td>\n",
       "      <td>0.0</td>\n",
       "      <td>...</td>\n",
       "      <td>0.0</td>\n",
       "      <td>0.0</td>\n",
       "      <td>0</td>\n",
       "      <td>0.0</td>\n",
       "      <td>0.0</td>\n",
       "      <td>NaN</td>\n",
       "      <td>0.0</td>\n",
       "      <td>0.0</td>\n",
       "      <td>0</td>\n",
       "      <td>0.0</td>\n",
       "    </tr>\n",
       "  </tbody>\n",
       "</table>\n",
       "<p>5 rows × 43 columns</p>\n",
       "</div>"
      ],
      "text/plain": [
       "       Unnamed: 0.1       city  Unnamed: 0     Price  Area  \\\n",
       "29768          5512  Bangalore        5512   5273000  2003   \n",
       "10347          3831    Kolkata        3831   2600000  3440   \n",
       "23156          6119     Mumbai        6119  14500000  1655   \n",
       "4402           2384      Delhi        2384  18800000  1800   \n",
       "2577            559      Delhi         559  16000000  1650   \n",
       "\n",
       "                      Location  No. of Bedrooms  Resale  MaintenanceStaff  \\\n",
       "29768  Bagaluru Near Yelahanka              3.0     0.0               9.0   \n",
       "10347                  Alipore              5.0     1.0               9.0   \n",
       "23156           Kandivali East              3.0     NaN               9.0   \n",
       "4402           Sector 9 Dwarka              3.0     1.0               9.0   \n",
       "2577           Sector 6 Dwarka              3.0     1.0               0.0   \n",
       "\n",
       "       Gymnasium  ...  LiftAvailable  BED  VaastuCompliant  Microwave  \\\n",
       "29768        9.0  ...            9.0  9.0                9        9.0   \n",
       "10347        9.0  ...            9.0  9.0                9        9.0   \n",
       "23156        9.0  ...            9.0  9.0                9        9.0   \n",
       "4402         9.0  ...            9.0  9.0                9        9.0   \n",
       "2577         0.0  ...            0.0  0.0                0        0.0   \n",
       "\n",
       "       GolfCourse   TV  DiningTable  Sofa  Wardrobe  Stadium  \n",
       "29768         9.0  9.0          9.0   9.0         9      9.0  \n",
       "10347         9.0  9.0          9.0   9.0         9      9.0  \n",
       "23156         9.0  9.0          9.0   9.0         9      9.0  \n",
       "4402          9.0  9.0          9.0   9.0         9      9.0  \n",
       "2577          0.0  NaN          0.0   0.0         0      0.0  \n",
       "\n",
       "[5 rows x 43 columns]"
      ]
     },
     "execution_count": 9,
     "metadata": {},
     "output_type": "execute_result"
    }
   ],
   "source": [
    "df_combined.head()"
   ]
  },
  {
   "cell_type": "code",
   "execution_count": 10,
   "metadata": {},
   "outputs": [
    {
     "data": {
      "text/plain": [
       "(8989, 43)"
      ]
     },
     "execution_count": 10,
     "metadata": {},
     "output_type": "execute_result"
    }
   ],
   "source": [
    "df_test.shape"
   ]
  },
  {
   "cell_type": "code",
   "execution_count": 11,
   "metadata": {},
   "outputs": [
    {
     "data": {
      "text/plain": [
       "(20974, 43)"
      ]
     },
     "execution_count": 11,
     "metadata": {},
     "output_type": "execute_result"
    }
   ],
   "source": [
    "df_train.shape"
   ]
  },
  {
   "cell_type": "code",
   "execution_count": 12,
   "metadata": {},
   "outputs": [],
   "source": [
    "DEST_ROUTE = \"train_data/preprocessed/\"\n",
    "df_combined.to_csv(DEST_ROUTE + \"combine_data.csv\", index = False)\n",
    "df_train.to_csv(DEST_ROUTE + \"train_data.csv\", index = False)\n",
    "df_test.to_csv(DEST_ROUTE + \"test_data.csv\", index = False)"
   ]
  },
  {
   "cell_type": "code",
   "execution_count": null,
   "metadata": {},
   "outputs": [],
   "source": []
  }
 ],
 "metadata": {
  "kernelspec": {
   "display_name": "m_datos",
   "language": "python",
   "name": "python3"
  },
  "language_info": {
   "codemirror_mode": {
    "name": "ipython",
    "version": 3
   },
   "file_extension": ".py",
   "mimetype": "text/x-python",
   "name": "python",
   "nbconvert_exporter": "python",
   "pygments_lexer": "ipython3",
   "version": "3.12.7"
  }
 },
 "nbformat": 4,
 "nbformat_minor": 2
}
